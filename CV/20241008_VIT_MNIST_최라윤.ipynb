{
  "nbformat": 4,
  "nbformat_minor": 0,
  "metadata": {
    "colab": {
      "provenance": [],
      "gpuType": "T4"
    },
    "kernelspec": {
      "name": "python3",
      "display_name": "Python 3"
    },
    "language_info": {
      "name": "python"
    },
    "accelerator": "GPU"
  },
  "cells": [
    {
      "cell_type": "markdown",
      "source": [
        "**Vision Transformer (ViT)**"
      ],
      "metadata": {
        "id": "Y_uWq2waO3rq"
      }
    },
    {
      "cell_type": "markdown",
      "source": [
        "## 1. Abstract"
      ],
      "metadata": {
        "id": "ZoX4qsroM6YG"
      }
    },
    {
      "cell_type": "markdown",
      "source": [
        "* ViT를 이용하여 MNIST 데이터셋을 분류하기"
      ],
      "metadata": {
        "id": "ckQBOVtKE6Xc"
      }
    },
    {
      "cell_type": "markdown",
      "source": [
        "## 2. Architecture"
      ],
      "metadata": {
        "id": "7kzitsHEPjMW"
      }
    },
    {
      "cell_type": "markdown",
      "source": [
        "> 간단한 모델 파이프라인 및 구조 설명\n",
        "\n",
        "### ViT 모델 파이프라인\n",
        "\n",
        "1. 입력 이미지 → 패치 분할 → 패치 평탄화 및 임베딩\n",
        "2. 패치 임베딩 + 위치 임베딩 → CLS 토큰 추가\n",
        "3. Transformer 인코더:\n",
        "  * 멀티 헤드 Self-Attention → 피드포워드 네트워크 → Layer Norm + Residual Connection (여러 층 반복)\n",
        "4. CLS 토큰 출력 → 분류 헤드\n",
        "5. 손실 계산 → 역전파 및 최적화 (pytorch lightning 에서자동수행)"
      ],
      "metadata": {
        "id": "qE_HUnJWrbDa"
      }
    },
    {
      "cell_type": "markdown",
      "source": [
        "## 3. Pipeline\n"
      ],
      "metadata": {
        "id": "8r3yX3U6P-x0"
      }
    },
    {
      "cell_type": "markdown",
      "source": [
        "\n",
        "\n",
        "> 자유롭게 논문에 소개된 모델을 활용하여, 데이터를 분석해 보세요!!\n",
        "\n"
      ],
      "metadata": {
        "id": "nu2nR_sXVyfu"
      }
    },
    {
      "cell_type": "markdown",
      "source": [
        "A. Import Libraries"
      ],
      "metadata": {
        "id": "nVCDugnfWELi"
      }
    },
    {
      "cell_type": "code",
      "source": [
        "!pip install pytorch_lightning"
      ],
      "metadata": {
        "colab": {
          "base_uri": "https://localhost:8080/"
        },
        "id": "hfMpaxrGGaHf",
        "outputId": "0cc0dc50-cf05-49b7-f21c-fe8429c127ee"
      },
      "execution_count": 1,
      "outputs": [
        {
          "output_type": "stream",
          "name": "stdout",
          "text": [
            "Collecting pytorch_lightning\n",
            "  Downloading pytorch_lightning-2.4.0-py3-none-any.whl.metadata (21 kB)\n",
            "Requirement already satisfied: torch>=2.1.0 in /usr/local/lib/python3.10/dist-packages (from pytorch_lightning) (2.4.1+cu121)\n",
            "Requirement already satisfied: tqdm>=4.57.0 in /usr/local/lib/python3.10/dist-packages (from pytorch_lightning) (4.66.5)\n",
            "Requirement already satisfied: PyYAML>=5.4 in /usr/local/lib/python3.10/dist-packages (from pytorch_lightning) (6.0.2)\n",
            "Requirement already satisfied: fsspec>=2022.5.0 in /usr/local/lib/python3.10/dist-packages (from fsspec[http]>=2022.5.0->pytorch_lightning) (2024.6.1)\n",
            "Collecting torchmetrics>=0.7.0 (from pytorch_lightning)\n",
            "  Downloading torchmetrics-1.4.2-py3-none-any.whl.metadata (19 kB)\n",
            "Requirement already satisfied: packaging>=20.0 in /usr/local/lib/python3.10/dist-packages (from pytorch_lightning) (24.1)\n",
            "Requirement already satisfied: typing-extensions>=4.4.0 in /usr/local/lib/python3.10/dist-packages (from pytorch_lightning) (4.12.2)\n",
            "Collecting lightning-utilities>=0.10.0 (from pytorch_lightning)\n",
            "  Downloading lightning_utilities-0.11.7-py3-none-any.whl.metadata (5.2 kB)\n",
            "Requirement already satisfied: aiohttp!=4.0.0a0,!=4.0.0a1 in /usr/local/lib/python3.10/dist-packages (from fsspec[http]>=2022.5.0->pytorch_lightning) (3.10.8)\n",
            "Requirement already satisfied: setuptools in /usr/local/lib/python3.10/dist-packages (from lightning-utilities>=0.10.0->pytorch_lightning) (71.0.4)\n",
            "Requirement already satisfied: filelock in /usr/local/lib/python3.10/dist-packages (from torch>=2.1.0->pytorch_lightning) (3.16.1)\n",
            "Requirement already satisfied: sympy in /usr/local/lib/python3.10/dist-packages (from torch>=2.1.0->pytorch_lightning) (1.13.3)\n",
            "Requirement already satisfied: networkx in /usr/local/lib/python3.10/dist-packages (from torch>=2.1.0->pytorch_lightning) (3.3)\n",
            "Requirement already satisfied: jinja2 in /usr/local/lib/python3.10/dist-packages (from torch>=2.1.0->pytorch_lightning) (3.1.4)\n",
            "Requirement already satisfied: numpy>1.20.0 in /usr/local/lib/python3.10/dist-packages (from torchmetrics>=0.7.0->pytorch_lightning) (1.26.4)\n",
            "Requirement already satisfied: aiohappyeyeballs>=2.3.0 in /usr/local/lib/python3.10/dist-packages (from aiohttp!=4.0.0a0,!=4.0.0a1->fsspec[http]>=2022.5.0->pytorch_lightning) (2.4.3)\n",
            "Requirement already satisfied: aiosignal>=1.1.2 in /usr/local/lib/python3.10/dist-packages (from aiohttp!=4.0.0a0,!=4.0.0a1->fsspec[http]>=2022.5.0->pytorch_lightning) (1.3.1)\n",
            "Requirement already satisfied: attrs>=17.3.0 in /usr/local/lib/python3.10/dist-packages (from aiohttp!=4.0.0a0,!=4.0.0a1->fsspec[http]>=2022.5.0->pytorch_lightning) (24.2.0)\n",
            "Requirement already satisfied: frozenlist>=1.1.1 in /usr/local/lib/python3.10/dist-packages (from aiohttp!=4.0.0a0,!=4.0.0a1->fsspec[http]>=2022.5.0->pytorch_lightning) (1.4.1)\n",
            "Requirement already satisfied: multidict<7.0,>=4.5 in /usr/local/lib/python3.10/dist-packages (from aiohttp!=4.0.0a0,!=4.0.0a1->fsspec[http]>=2022.5.0->pytorch_lightning) (6.1.0)\n",
            "Requirement already satisfied: yarl<2.0,>=1.12.0 in /usr/local/lib/python3.10/dist-packages (from aiohttp!=4.0.0a0,!=4.0.0a1->fsspec[http]>=2022.5.0->pytorch_lightning) (1.13.1)\n",
            "Requirement already satisfied: async-timeout<5.0,>=4.0 in /usr/local/lib/python3.10/dist-packages (from aiohttp!=4.0.0a0,!=4.0.0a1->fsspec[http]>=2022.5.0->pytorch_lightning) (4.0.3)\n",
            "Requirement already satisfied: MarkupSafe>=2.0 in /usr/local/lib/python3.10/dist-packages (from jinja2->torch>=2.1.0->pytorch_lightning) (2.1.5)\n",
            "Requirement already satisfied: mpmath<1.4,>=1.1.0 in /usr/local/lib/python3.10/dist-packages (from sympy->torch>=2.1.0->pytorch_lightning) (1.3.0)\n",
            "Requirement already satisfied: idna>=2.0 in /usr/local/lib/python3.10/dist-packages (from yarl<2.0,>=1.12.0->aiohttp!=4.0.0a0,!=4.0.0a1->fsspec[http]>=2022.5.0->pytorch_lightning) (3.10)\n",
            "Downloading pytorch_lightning-2.4.0-py3-none-any.whl (815 kB)\n",
            "\u001b[2K   \u001b[90m━━━━━━━━━━━━━━━━━━━━━━━━━━━━━━━━━━━━━━━━\u001b[0m \u001b[32m815.2/815.2 kB\u001b[0m \u001b[31m19.9 MB/s\u001b[0m eta \u001b[36m0:00:00\u001b[0m\n",
            "\u001b[?25hDownloading lightning_utilities-0.11.7-py3-none-any.whl (26 kB)\n",
            "Downloading torchmetrics-1.4.2-py3-none-any.whl (869 kB)\n",
            "\u001b[2K   \u001b[90m━━━━━━━━━━━━━━━━━━━━━━━━━━━━━━━━━━━━━━━━\u001b[0m \u001b[32m869.2/869.2 kB\u001b[0m \u001b[31m18.3 MB/s\u001b[0m eta \u001b[36m0:00:00\u001b[0m\n",
            "\u001b[?25hInstalling collected packages: lightning-utilities, torchmetrics, pytorch_lightning\n",
            "Successfully installed lightning-utilities-0.11.7 pytorch_lightning-2.4.0 torchmetrics-1.4.2\n"
          ]
        }
      ]
    },
    {
      "cell_type": "markdown",
      "source": [
        "## 패키지 불러오기\n",
        "* 패키지 설명\n",
        "1. os : 파일 경로 관련 작업 할 때 사용되는 파이썬 표준 lib\n",
        "2. torch : PyTorch 라이브러리, 텐서 연산과 딥러닝 모델 구축할 때 사용\n",
        "3. nn : Pytorch에서 신경망 모듈을 정의할 때 사용하는 패키지\n",
        "4. DataLoader : 데이터셋을 쉽게 다룰 수 있게 배치 단위로 데이터 로드\n",
        "5. random_split : 데이터셋을 훈련/검증 데이터로 나눌 때 사용\n",
        "6. datasets : 파이토치에 제공하는 데이터셋 모듈\n",
        "7. transforms : 데이터에 대해 전처리 할 수 있는 기능\n",
        "8. ToTensor : 이미지를 파이토치 텐서로 변환하는 기능\n",
        "9. Lambda : 데이터를 람다 함수로 변환\n",
        "10. pytorch_lightning: 파이토치의 코드 구조를 간소화해줌\n",
        "11. einops : 복잡한 텐서 변환을 쉽게 할 수 있는 라이브러리"
      ],
      "metadata": {
        "id": "G5X2rhhtGht5"
      }
    },
    {
      "cell_type": "code",
      "source": [
        "import os\n",
        "import torch\n",
        "from torch import nn\n",
        "from torch.utils.data import DataLoader, random_split\n",
        "from torchvision import datasets, transforms\n",
        "from torchvision.transforms import ToTensor, Lambda\n",
        "\n",
        "device = 'cuda' if torch.cuda.is_available() else 'cpu'\n",
        "import matplotlib.pyplot as plt\n",
        "import pytorch_lightning as pl\n",
        "torch.manual_seed(0)\n",
        "\n",
        "# 시드 설정"
      ],
      "metadata": {
        "id": "FuGBJPtIVyUP",
        "colab": {
          "base_uri": "https://localhost:8080/"
        },
        "outputId": "6a2e1b45-bb50-4d20-f1b8-5eba2297985c"
      },
      "execution_count": 5,
      "outputs": [
        {
          "output_type": "execute_result",
          "data": {
            "text/plain": [
              "<torch._C.Generator at 0x7f5f94146450>"
            ]
          },
          "metadata": {},
          "execution_count": 5
        }
      ]
    },
    {
      "cell_type": "code",
      "execution_count": 2,
      "metadata": {
        "id": "9290db43"
      },
      "outputs": [],
      "source": [
        "import numpy as np"
      ]
    },
    {
      "cell_type": "code",
      "source": [
        "from einops.layers.torch import Reduce"
      ],
      "metadata": {
        "id": "cSPsKlkKGxeS"
      },
      "execution_count": 3,
      "outputs": []
    },
    {
      "cell_type": "markdown",
      "source": [
        "B. Configuration"
      ],
      "metadata": {
        "id": "jftin4JKWGc-"
      }
    },
    {
      "cell_type": "code",
      "execution_count": 6,
      "metadata": {
        "id": "ee4a903d",
        "colab": {
          "base_uri": "https://localhost:8080/"
        },
        "outputId": "25b3b294-96e8-42b8-d722-8ef95494d5a2"
      },
      "outputs": [
        {
          "output_type": "stream",
          "name": "stdout",
          "text": [
            "Downloading http://yann.lecun.com/exdb/mnist/train-images-idx3-ubyte.gz\n",
            "Failed to download (trying next):\n",
            "HTTP Error 403: Forbidden\n",
            "\n",
            "Downloading https://ossci-datasets.s3.amazonaws.com/mnist/train-images-idx3-ubyte.gz\n",
            "Downloading https://ossci-datasets.s3.amazonaws.com/mnist/train-images-idx3-ubyte.gz to data/MNIST/raw/train-images-idx3-ubyte.gz\n"
          ]
        },
        {
          "output_type": "stream",
          "name": "stderr",
          "text": [
            "100%|██████████| 9912422/9912422 [00:10<00:00, 902200.67it/s] \n"
          ]
        },
        {
          "output_type": "stream",
          "name": "stdout",
          "text": [
            "Extracting data/MNIST/raw/train-images-idx3-ubyte.gz to data/MNIST/raw\n",
            "\n",
            "Downloading http://yann.lecun.com/exdb/mnist/train-labels-idx1-ubyte.gz\n",
            "Failed to download (trying next):\n",
            "HTTP Error 403: Forbidden\n",
            "\n",
            "Downloading https://ossci-datasets.s3.amazonaws.com/mnist/train-labels-idx1-ubyte.gz\n",
            "Downloading https://ossci-datasets.s3.amazonaws.com/mnist/train-labels-idx1-ubyte.gz to data/MNIST/raw/train-labels-idx1-ubyte.gz\n"
          ]
        },
        {
          "output_type": "stream",
          "name": "stderr",
          "text": [
            "100%|██████████| 28881/28881 [00:00<00:00, 132318.60it/s]\n"
          ]
        },
        {
          "output_type": "stream",
          "name": "stdout",
          "text": [
            "Extracting data/MNIST/raw/train-labels-idx1-ubyte.gz to data/MNIST/raw\n",
            "\n",
            "Downloading http://yann.lecun.com/exdb/mnist/t10k-images-idx3-ubyte.gz\n",
            "Failed to download (trying next):\n",
            "HTTP Error 403: Forbidden\n",
            "\n",
            "Downloading https://ossci-datasets.s3.amazonaws.com/mnist/t10k-images-idx3-ubyte.gz\n",
            "Downloading https://ossci-datasets.s3.amazonaws.com/mnist/t10k-images-idx3-ubyte.gz to data/MNIST/raw/t10k-images-idx3-ubyte.gz\n"
          ]
        },
        {
          "output_type": "stream",
          "name": "stderr",
          "text": [
            "100%|██████████| 1648877/1648877 [00:01<00:00, 1097933.07it/s]\n"
          ]
        },
        {
          "output_type": "stream",
          "name": "stdout",
          "text": [
            "Extracting data/MNIST/raw/t10k-images-idx3-ubyte.gz to data/MNIST/raw\n",
            "\n",
            "Downloading http://yann.lecun.com/exdb/mnist/t10k-labels-idx1-ubyte.gz\n",
            "Failed to download (trying next):\n",
            "HTTP Error 403: Forbidden\n",
            "\n",
            "Downloading https://ossci-datasets.s3.amazonaws.com/mnist/t10k-labels-idx1-ubyte.gz\n",
            "Downloading https://ossci-datasets.s3.amazonaws.com/mnist/t10k-labels-idx1-ubyte.gz to data/MNIST/raw/t10k-labels-idx1-ubyte.gz\n"
          ]
        },
        {
          "output_type": "stream",
          "name": "stderr",
          "text": [
            "100%|██████████| 4542/4542 [00:00<00:00, 3630746.86it/s]"
          ]
        },
        {
          "output_type": "stream",
          "name": "stdout",
          "text": [
            "Extracting data/MNIST/raw/t10k-labels-idx1-ubyte.gz to data/MNIST/raw\n",
            "\n"
          ]
        },
        {
          "output_type": "stream",
          "name": "stderr",
          "text": [
            "\n"
          ]
        }
      ],
      "source": [
        "# MNIST 데이터셋의 train 데이터 불러오기  ( 총 60,000개 )\n",
        "training_data = datasets.MNIST(\n",
        "    root=\"data\",\n",
        "    download=True,\n",
        "    transform=ToTensor()  # 데이터를 불러올 때 이미지 데이터를 파이토치 텐서로 변환\n",
        ")\n",
        "\n",
        "# MNIST 데이터셋의 test 데이터 불러오기 ( 총 10,000개 )\n",
        "test_data = datasets.MNIST(\n",
        "    root=\"data\",\n",
        "    train=False,\n",
        "    download=True,\n",
        "    transform=ToTensor()\n",
        ")\n",
        "train_dataset, val_dataset = random_split(training_data, [55000, 5000])\n",
        "# 학습 데이터셋을 학습 데이터와 검증데이터로 나눔\n",
        "\n",
        "\n",
        "# 학습 파라미터 설정\n",
        "learning_rate = 1e-3\n",
        "batch_size = 128\n",
        "epochs = 10\n",
        "\n",
        "# 데이터셋을 batch_size 크기로 불러옴 (모델 훈련에 쓰임)\n",
        "train_dataloader = DataLoader(train_dataset, batch_size=batch_size)\n",
        "val_dataloader = DataLoader(val_dataset, batch_size=batch_size)\n",
        "test_dataloader = DataLoader(test_data, batch_size=batch_size)"
      ]
    },
    {
      "cell_type": "code",
      "execution_count": 7,
      "metadata": {
        "id": "17d7360f"
      },
      "outputs": [],
      "source": [
        "# iter를사용해 반복자를 생성하고 다음 배치를 가져옴\n",
        "# data : 배치 내의 이미지 데이터가 저장  / (batch_size, channel, width, height)의 텐서로 이루어짐\n",
        "# MNIST 데이터셋의 레이블은 0부터 9까지\n",
        "data, label = next(iter(train_dataloader))"
      ]
    },
    {
      "cell_type": "markdown",
      "source": [
        "C. Data Preprocessing & EDA"
      ],
      "metadata": {
        "id": "PUbi6JPJXFBd"
      }
    },
    {
      "cell_type": "code",
      "source": [
        "data.shape #[batch_size, channel, width, height]"
      ],
      "metadata": {
        "id": "_a372l-VXH0c",
        "colab": {
          "base_uri": "https://localhost:8080/"
        },
        "outputId": "b30ebf82-4250-4ac4-8b4b-ec1e55b8295a"
      },
      "execution_count": 8,
      "outputs": [
        {
          "output_type": "execute_result",
          "data": {
            "text/plain": [
              "torch.Size([128, 1, 28, 28])"
            ]
          },
          "metadata": {},
          "execution_count": 8
        }
      ]
    },
    {
      "cell_type": "code",
      "execution_count": null,
      "metadata": {
        "colab": {
          "base_uri": "https://localhost:8080/",
          "height": 447
        },
        "id": "b3c5251a",
        "outputId": "5e87b35b-6a75-4a89-e6bb-49fe0b3a0542"
      },
      "outputs": [
        {
          "output_type": "execute_result",
          "data": {
            "text/plain": [
              "<matplotlib.image.AxesImage at 0x7d5c5811b340>"
            ]
          },
          "metadata": {},
          "execution_count": 40
        },
        {
          "output_type": "display_data",
          "data": {
            "text/plain": [
              "<Figure size 640x480 with 1 Axes>"
            ],
            "image/png": "[encoded data removed]"
          },
          "metadata": {}
        }
      ],
      "source": [
        "# 흑백이미지는 원래 2차원 / 컬러 이미지는 3차원\n",
        "\n",
        "plt.imshow(data[0].reshape(28,28)) # 시각화를 위해 2차원 배열로 변환"
      ]
    },
    {
      "cell_type": "code",
      "execution_count": null,
      "metadata": {
        "scrolled": false,
        "colab": {
          "base_uri": "https://localhost:8080/"
        },
        "id": "3d2e3dd9",
        "outputId": "2cabbf34-c79a-4ae2-d8be-509e82d4c4af"
      },
      "outputs": [
        {
          "output_type": "execute_result",
          "data": {
            "text/plain": [
              "tensor([9, 3, 5, 4, 7, 4, 9, 6, 8, 8, 7, 4, 8, 9, 4, 0, 6, 8, 9, 9, 3, 1, 3, 2,\n",
              "        5, 0, 2, 1, 6, 5, 5, 4, 7, 4, 1, 8, 7, 3, 3, 5, 1, 6, 0, 1, 4, 4, 0, 0,\n",
              "        7, 0, 6, 7, 8, 9, 2, 1, 0, 7, 9, 2, 6, 8, 7, 7, 2, 8, 8, 5, 7, 1, 9, 3,\n",
              "        1, 2, 4, 8, 6, 5, 1, 6, 5, 6, 8, 8, 5, 0, 2, 7, 2, 5, 8, 7, 7, 7, 2, 7,\n",
              "        8, 8, 7, 7, 0, 2, 9, 5, 5, 4, 6, 6, 2, 3, 3, 1, 5, 5, 1, 8, 8, 7, 6, 2,\n",
              "        0, 7, 3, 9, 2, 1, 4, 7])"
            ]
          },
          "metadata": {},
          "execution_count": 41
        }
      ],
      "source": [
        "label"
      ]
    },
    {
      "cell_type": "code",
      "execution_count": null,
      "metadata": {
        "colab": {
          "base_uri": "https://localhost:8080/"
        },
        "id": "a12816d2",
        "outputId": "f06881b7-cb7d-4cf8-a846-ce0fe83805ca"
      },
      "outputs": [
        {
          "output_type": "execute_result",
          "data": {
            "text/plain": [
              "torch.Size([1, 28, 28])"
            ]
          },
          "metadata": {},
          "execution_count": 42
        }
      ],
      "source": [
        "data[0].shape"
      ]
    },
    {
      "cell_type": "markdown",
      "source": [
        "D. Modelling"
      ],
      "metadata": {
        "id": "7YwFilzxXHZn"
      }
    },
    {
      "cell_type": "markdown",
      "source": [
        "# [각 단계별 구현]"
      ],
      "metadata": {
        "id": "rymGHPcGOWbS"
      }
    },
    {
      "cell_type": "markdown",
      "source": [
        "## 모델 input = Embedded Patches = Concat(Patch + CLS) + Postion Embedding\n",
        "\n",
        "![image.png](data:image/png;base64,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)"
      ],
      "metadata": {
        "id": "h0mIjgVA5mXh"
      }
    },
    {
      "cell_type": "markdown",
      "source": [
        "### Patch Embedding\n",
        "\n",
        "* self-Attention 구현을 위해 이미지를 1차원으로 Flatten 해줘야함(self-attention은 1차원벡터를 입력으로 받아서 변환이 필요함)\n",
        "* 이런 과정을 Patch라고 함\n",
        "* 4*4 이미지만큼씩 자름\n",
        "* [1,28,28] → [49, 16*1]개의 임베딩\n"
      ],
      "metadata": {
        "id": "0oecFKdD4bbb"
      }
    },
    {
      "cell_type": "code",
      "execution_count": null,
      "metadata": {
        "colab": {
          "base_uri": "https://localhost:8080/"
        },
        "id": "d2f13e97",
        "outputId": "c68f270c-088c-465c-e48b-9c70004be748"
      },
      "outputs": [
        {
          "output_type": "execute_result",
          "data": {
            "text/plain": [
              "torch.Size([1, 16, 7, 7])"
            ]
          },
          "metadata": {},
          "execution_count": 43
        }
      ],
      "source": [
        "project = nn.Conv2d(1, 16, kernel_size= 4, stride=4)\n",
        "\n",
        "# 4*4 크기의 패치를 받아들여 16차원 벡터로 임베딩 / 각각의 벡터들은 패치 하나의 특징을 담음\n",
        "#in_chan = 1 (흑백 이미지이므로 input channel은 1개)\n",
        "#self.emb_size = Channel * Patch Size * Patch Size = 1 * 4 * 4 = 16\n",
        "#Kernel Size = Patch Size\n",
        "#Stride = Patch Size (겹치지 않도록 같게 둠)\n",
        "project(data[0].unsqueeze(0)).shape"
      ]
    },
    {
      "cell_type": "markdown",
      "source": [
        "### CLS 토큰을 Patch Embedding과 Concat\n",
        "* CLS 토큰 : 문장의 시작을 알려주는 토큰\n",
        "* Patch 과정을 거치면 이미지는 [batch_size, 49, 16]의 모양이되고, CLS 토큰의 모댱은 [batch_size, 1, 16]이 된다.\n",
        "* 둘을 concat 하면  [batch_size, 49 +1 , 16]"
      ],
      "metadata": {
        "id": "0enSSVOW5eMD"
      }
    },
    {
      "cell_type": "code",
      "execution_count": null,
      "metadata": {
        "id": "14988016"
      },
      "outputs": [],
      "source": [
        "class EmbeddingLayer(nn.Module):\n",
        "    def __init__(self,in_chan, img_size, patch_size,batch_size=128):\n",
        "        super().__init__()\n",
        "        self.num_patches = int(img_size / pow(patch_size, 2)) # 49\n",
        "        self.emb_size = in_chan * patch_size * patch_size # 16\n",
        "        self.project = nn.Conv2d(in_chan, self.emb_size, kernel_size= patch_size, stride=patch_size)\n",
        "        self.cls_token = nn.Parameter(torch.randn(1,1,self.emb_size))\n",
        "        # 학습이 가능해야하는 파라미터이므로 nn.Parameter 사용 / 모델 학습 과정에서 CLS 토큰의 값이조정\n",
        "        self.positions = nn.Parameter(torch.randn(self.num_patches+ 1, self.emb_size)) # [50,16]\n",
        "        # Position Embedding = patch와 cls Token을 concat하고 Position Embedding 벡터를 더 해줌, 학습 가능해야함\n",
        "\n",
        "        ## Embedded Patches 완성 ~!\n",
        "\n",
        "\n",
        "    def forward(self, x):\n",
        "        x = self.project(x) # Conv2D 를 통해 패치로 나누고 패치 임베딩 / 결과는 [batch_size, emb_size, 7, 7]의 크기를 가진 텐서\n",
        "        x = x.view(-1, 49, 16) # [batch_size, 49, 16]\n",
        "        repeat_cls = self.cls_token.repeat(x.size()[0],1,1) #cls 토큰을 배치크기만큼 복사해서텐서로 만듦 [batch_size, 1 , 16] / 각 이미지에 대해 하나씩 추가됨\n",
        "        x = torch.cat((repeat_cls, x), dim=1) # cls 토큰과 패치 임베딩 결합\n",
        "        x += self.positions  # 각 패치와 CLS 토큰에 Position Embedding 더\n",
        "        return x"
      ]
    },
    {
      "cell_type": "markdown",
      "source": [
        "## Norm, Multi-head Attention\n",
        "\n",
        "![image.png](data:image/png;base64,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)"
      ],
      "metadata": {
        "id": "9FMlRPN3-FbI"
      }
    },
    {
      "cell_type": "markdown",
      "source": [
        "### layer Normalization\n",
        "* Batch Norm => 각 Feature들을 Normalization\n",
        "* Layer Norm => 배치 마다 Normalization\n",
        "* 동일한 배치에 있는 시점의 시퀀스들을 모아서 정규화\n",
        "* 시계열 데이터는 시점마다 다른 통계치가 존재한다는 특성이 있어서 첫번째 시퀀스들 끼리, 두번째 시퀀스들 끼리 등으로 하는게 효율적\n"
      ],
      "metadata": {
        "id": "A1xrPjvB-dn0"
      }
    },
    {
      "cell_type": "code",
      "execution_count": null,
      "metadata": {
        "id": "cc4d3793"
      },
      "outputs": [],
      "source": [
        "\n",
        "class Multihead(nn.Module):\n",
        "    def __init__(self, emb_size, num_heads):\n",
        "        super().__init__()\n",
        "        self.multiheadattention = nn.MultiheadAttention(emb_size, num_heads, batch_first = True, dropout=0.2)\n",
        "        self.query = nn.Linear(emb_size, emb_size)\n",
        "        self.key = nn.Linear(emb_size, emb_size)\n",
        "        self.value = nn.Linear(emb_size, emb_size)\n",
        "\n",
        "    def forward(self, x):\n",
        "        query = self.query(x)\n",
        "        key = self.key(x)\n",
        "        value = self.value(x)\n",
        "        attn_output, attention = self.multiheadattention(query, key, value)\n",
        "        return attn_output, attention\n",
        "        # attn_output : Attention 결과  / attention : 각 헤드 별 Attention Score\n"
      ]
    },
    {
      "cell_type": "markdown",
      "source": [
        "## FeedForwardBLock\n",
        "![image.png](data:image/png;base64,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)"
      ],
      "metadata": {
        "id": "2tcswn6F_ofC"
      }
    },
    {
      "cell_type": "markdown",
      "source": [
        "* 기존 트랜스포머와같이, 원래 임베딩 차원의 4배가 되도록 설정하고 원래 사이즈로 돌아오는 과정 (더 많은 특징 학습)\n",
        "* BERT, GPT, ViT 모델에선 GELU를 사용, 네트워크가 깊어질수록 입력치에 가중치를 부여함"
      ],
      "metadata": {
        "id": "DU-sIqCJ_x9G"
      }
    },
    {
      "cell_type": "code",
      "execution_count": null,
      "metadata": {
        "id": "e5120138"
      },
      "outputs": [],
      "source": [
        "class FeedForwardBlock(nn.Sequential):\n",
        "    def __init__(self, emb_size, expansion = 4, drop_p = 0.2):\n",
        "        super().__init__(\n",
        "            nn.Linear(emb_size, expansion * emb_size),\n",
        "            nn.GELU(), # Activation Function / 입력값이 0에 가까울 땐 선형적, 크거나 작으면 비선형적으로작동해 복잡한 패턴 학습\n",
        "            nn.Dropout(drop_p),\n",
        "            nn.Linear(expansion * emb_size, emb_size) # 원래크기로 축소 ( 64->16 차)\n",
        "        )"
      ]
    },
    {
      "cell_type": "markdown",
      "source": [
        "## 모델 전체 구현"
      ],
      "metadata": {
        "id": "_udpWbUqAeY0"
      }
    },
    {
      "cell_type": "code",
      "execution_count": null,
      "metadata": {
        "id": "5e63879c"
      },
      "outputs": [],
      "source": [
        "class VIT(nn.Module):\n",
        "    def __init__(self,emb_size = 16):\n",
        "        super().__init__()\n",
        "        self.embedding_layer = EmbeddingLayer(1, 28*28, 4)\n",
        "        self.Multihead = Multihead(emb_size, 8)\n",
        "        self.FFB = FeedForwardBlock(emb_size)\n",
        "        self.norm = nn.LayerNorm(emb_size)\n",
        "\n",
        "    def forward(self, x):\n",
        "        x = self.embedding_layer(x)\n",
        "\n",
        "        norm_x = self.norm(x) # layer normalization을 적용해서 데이터를 정규화 한 다음 어텐션에 통과\n",
        "        multihead_output, attention = self.Multihead(norm_x)\n",
        "\n",
        "        #residual Function / attention의 출력을 원래 입력 x와 더해줌\n",
        "        output = multihead_output + x\n",
        "\n",
        "        norm_output = self.norm(output)  #다시 layer normalization 진행\n",
        "        FFB = self.FFB(norm_output)  # feedforward 통과 (기울기 소실, 폭발 문제를 막기 위해 정규화된 값 사용)\n",
        "\n",
        "        final_out = FFB + output # 정규화되지 않은 output을 더하는 이유 : residual connection에서 입력 정보의 보존때문\n",
        "\n",
        "        return final_out, attention\n",
        "\n",
        "\n",
        "\n"
      ]
    },
    {
      "cell_type": "markdown",
      "source": [
        "## Encoder L x"
      ],
      "metadata": {
        "id": "smOmMGHqAmMf"
      }
    },
    {
      "cell_type": "code",
      "execution_count": null,
      "metadata": {
        "id": "8529a20c"
      },
      "outputs": [],
      "source": [
        "class TransformerEncoder(nn.Module):\n",
        "    def __init__(self, n_layers: 5, ):  # VIT 레이어 5개 쌓아서 transformer encoder 구성\n",
        "        super().__init__()\n",
        "        self.layers = nn.ModuleList([VIT() for _ in range(n_layers)])\n",
        "\n",
        "    def forward(self, x):\n",
        "        for layer in self.layers:\n",
        "            final_out, attention = layer(x)\n",
        "\n",
        "        return final_out"
      ]
    },
    {
      "cell_type": "code",
      "execution_count": null,
      "metadata": {
        "id": "17a26939"
      },
      "outputs": [],
      "source": [
        "import torchmetrics\n",
        "\n",
        "# 다중 분류 모델에 대해 정확도 계산\n",
        "ac = torchmetrics.Accuracy(task=\"multiclass\", num_classes = 10).to('cuda')"
      ]
    },
    {
      "cell_type": "markdown",
      "source": [
        "E. Training Loop"
      ],
      "metadata": {
        "id": "lDP5GehMWM8C"
      }
    },
    {
      "cell_type": "code",
      "source": [
        "# 클래스 정의 및 초기화\n",
        "class VIT_Encoder(pl.LightningModule):\n",
        "    def __init__(self):\n",
        "        super().__init__()\n",
        "        self.losses = []\n",
        "        self.Encoder = nn.Sequential(\n",
        "            TransformerEncoder(n_layers=5),  # 5개의 transformer 레이어로 구성된 인코더\n",
        "        )\n",
        "        self.final_layer = nn.Linear(16, 10) # 최종 분류 레이어\n",
        "        self.val_losses = []\n",
        "        self.train_accuracies = []\n",
        "        self.val_accuracies = []\n",
        "        self.test_accuracies = []\n",
        "        self.accuracy_metric = Accuracy(task=\"multiclass\", num_classes=10)  # 정확도 추천\n",
        "\n",
        "\n",
        "    # forward 함수\n",
        "    def forward(self, x):\n",
        "        x = self.Encoder(x)  # 입력데이터가 transformer encoder를 통과\n",
        "        cls_token_final = x[:, 0]  # 첫번째 패치 (CLS token을 가져와서 최종 분류)\n",
        "        cls_token_final = self.final_layer(cls_token_final) # 최종적으로 Linear 레이어를 통과해서 10개의 클래스로 분류\n",
        "        return cls_token_final\n",
        "\n",
        "\n",
        "    # training step\n",
        "    def training_step(self, batch, batch_idx):\n",
        "        x, y = batch  # 입력 데이터와 레이블\n",
        "        logits = self(x) # 모델의 예측값\n",
        "        loss = nn.CrossEntropyLoss()(logits, y)  # 손실 함수 계산\n",
        "        self.losses.append(loss.item())  # 손실 값 저장\n",
        "        acc = self.accuracy_metric(logits, y) # 정확도 계산\n",
        "        self.train_accuracies.append(acc.item()) # 정확도 저장\n",
        "\n",
        "        self.log('train_loss', loss, on_step=True, on_epoch=True, prog_bar=True)  # 손실값 기록, 자동으로 로깅 및 출력\n",
        "        return loss\n",
        "\n",
        "    def on_train_epoch_end(self):\n",
        "        mean_loss = sum(self.losses) / len(self.losses)\n",
        "        mean_acc = sum(self.train_accuracies) / len(self.train_accuracies)\n",
        "        print(f\"Training loss: {mean_loss}, Training accuracy: {mean_acc}\")  # 각 학습 에포크가 끝날 때 마다 평균 손실과 정확도 출력하고 로그초기화\n",
        "        self.losses.clear()\n",
        "        self.train_accuracies.clear()\n",
        "\n",
        "    def validation_step(self, batch, batch_idx):\n",
        "        x, y = batch\n",
        "        logits = self(x)\n",
        "        loss = nn.CrossEntropyLoss()(logits, y)\n",
        "\n",
        "        acc = self.accuracy_metric(logits, y)\n",
        "        self.val_accuracies.append(acc.item())\n",
        "        self.val_losses.append(loss.item())\n",
        "\n",
        "        return loss\n",
        "\n",
        "    def on_validation_epoch_end(self):\n",
        "        mean_loss = sum(self.val_losses) / len(self.val_losses)\n",
        "        mean_acc = sum(self.val_accuracies) / len(self.val_accuracies)\n",
        "        print(f\"Validation loss: {mean_loss}, Validation accuracy: {mean_acc}\")\n",
        "\n",
        "        self.val_losses.clear()\n",
        "        self.val_accuracies.clear()\n",
        "\n",
        "        self.log(\"val_loss\", mean_loss, prog_bar=True)\n",
        "        self.log(\"val_acc\", mean_acc, prog_bar=True)\n",
        "\n",
        "    def test_step(self, batch, batch_idx):\n",
        "        x, y = batch\n",
        "        logits = self(x)\n",
        "        acc = self.accuracy_metric(logits, y)\n",
        "        self.test_accuracies.append(acc.item())\n",
        "\n",
        "    def on_test_epoch_end(self):\n",
        "        mean_acc = sum(self.test_accuracies) / len(self.test_accuracies)\n",
        "        print(f\"Test accuracy: {mean_acc}\")\n",
        "        self.test_accuracies.clear()\n",
        "\n",
        "    # 옵티마이저 = Adam\n",
        "    def configure_optimizers(self):\n",
        "        return torch.optim.Adam(self.parameters(), lr=1e-3)\n",
        "\n",
        "    def test_dataloader(self):\n",
        "        return test_dataloader\n"
      ],
      "metadata": {
        "id": "SAmVmkuYIe6-"
      },
      "execution_count": null,
      "outputs": []
    },
    {
      "cell_type": "code",
      "execution_count": null,
      "metadata": {
        "id": "cc48a96a"
      },
      "outputs": [],
      "source": [
        "# 성능이 개선되지 않으면 학습을 중지\n",
        "from pytorch_lightning.callbacks.early_stopping import EarlyStopping\n",
        "early_stop_callback = EarlyStopping(monitor='val_loss', mode ='min', patience=5)"
      ]
    },
    {
      "cell_type": "code",
      "source": [
        "  # torchmetrics에서 Accuracy 가져오기\n",
        "from torchmetrics import Accuracy"
      ],
      "metadata": {
        "id": "gSMSxxhqIJc7"
      },
      "execution_count": null,
      "outputs": []
    },
    {
      "cell_type": "code",
      "execution_count": null,
      "metadata": {
        "scrolled": true,
        "colab": {
          "base_uri": "https://localhost:8080/",
          "height": 810,
          "referenced_widgets": [
            "b27f1588f3434aef9c80773ad9f1dc89",
            "835367790e544937bbc3a742dcd34e22",
            "f70bb4fc5d914ca9b1562a4d3989e52a",
            "3017604e08514a9e8e8b55fcc2eb875c",
            "9b3915399b0243e9b0364265526d98cb",
            "27138ff50db04d5fa3f20177adbca877",
            "773c855f3c1448d6a056a4cc4e7f6cd3",
            "5b1b29a7837249fb924e488de67a34c4",
            "747e784e26b64b1fa05540abeea8d21c",
            "4f507e9f5f2449b489cb52bcc534d106",
            "431a8db57ad641f8b55add34ef9f6a71",
            "a4cf3f2294bb4b56979ebcb46b205b56",
            "7e348e27d70f4ffda5f2ae2c04c87d53",
            "61e809dfaddb403987b39f25ecdecc00",
            "7bb063626c564f3fbde18dc67cb9920f",
            "1028253c95f743d9b6985eed0fe0e298",
            "533a46fc464a4878af70002b1a58fb29",
            "4c33265f521b4dc6bbc1b65f1bfa1754",
            "9c853128c38a4161af912c488ddf4b94",
            "01a319c4a21b47149782647a4a9cf1de",
            "02a08c2bcbb34ec78d46c3659b886fb0",
            "5859f612189e4da8a747afe42ad346b8",
            "7f0b26e1508747f2819dce3c674e64f8",
            "07b088742a65460288e3e439a0751280",
            "1541dc13b7ed4d768387a9a45696aed3",
            "3e9450f9aaa940259550019b7da18718",
            "3d1a22dd82394acf9c640c2272e20722",
            "305db6210ae646b2a8ba336c6b06618e",
            "8f6191a26c8d489e85a814d3adcd81c6",
            "b26e4a40a1ec4ef3823f98bffe654584",
            "996f925bc3b64cceb5555bf229c68cb8",
            "a14e1e5bf0ef48cbaddb4305d07d4097",
            "f3364315fdfb44eba60704d640967324",
            "9f8f0e34dbc94ea7a6c3d3d3fe80ed1c",
            "18d0aabd9a55460eb71d68f7e09cad53",
            "3aea99ede9064ac2b9af3e650c563db6",
            "8ea4bcb3edf4465f8102f0bec3d668c0",
            "f94413c1d3a047c593733df25ec928da",
            "34d476b3d7cf4a9ca965d3d9ad49dbd2",
            "52e4fcd7595944b29416586b628344e2",
            "c1c283bbf42a40ca921f3e2dcaba5539",
            "f27c7db631b8445ea09077aecedfb8f4",
            "b50dd74c1ac043f28c7bc5e2a5b9350f",
            "a5c087de3f424b3cb5e3d91fa7e51d80",
            "c489779a66a74e1b93a2e36a02aa027f",
            "b8327ce7a6164e48b7d7b3473c5e3659",
            "6134070788cf4816ae4776c51f04968a",
            "578e8df3dc7a4737ae9b61bd9da2d46e",
            "d95c830da2a54a9bb8285da016684757",
            "bb26e77cfb9945219ec0741917adaece",
            "9516ab5a79cc4aa0ab2ce2728bdaa040",
            "2c28dfa98abb4402a9a4c81eb9df9af0",
            "ea33d7fc8560486f96cf427140f194a2",
            "8d9fd121c5d2432c8c85bb2e31f67753",
            "77aa4c4d50af4f38921171717f7d2f56",
            "a488586bb403418aaba473e0a23a9db7",
            "7ae63b91ed8e41848242c893720aa3d2",
            "bc453d60fbe5463a88d6b83364b1a739",
            "6093c58729024bbfa84279ce34a1e437",
            "8b399fa7754344059721077921f6484a",
            "41668c88870c47bfb4d47c50aedf2df0",
            "baad7fccbdfa45b4b2a611a089fbb2e1",
            "c6131c29b3834e55bad69d4a7915ef72",
            "75f63828d6914018a3a71e11ea86e73d",
            "977f9d7151464325b116841de0e66e60",
            "ace3e4b31491490eb825779fe200e935",
            "b6becea2e9724847abc858539c0d81bb",
            "32110af9b8a94256bfca5941de1c7d6f",
            "e315aa06cc6d469abf135fa7d8ef7641",
            "11490bb34e67434f8fbf837b392b4278",
            "547ffa103d9044839aaa4a9c849a4a92",
            "664d30fcd6e547beac54599365459297",
            "2999ea8c29c8476e8cac2d0308e4b2b7",
            "4b6c561884f14ce08d7314bf4b8f423c",
            "546e448a11bc4aef90fa506af9a3333c",
            "1dc7ddd9c56e43ceba4c095fc80a9fe7",
            "8bece68ecdaa492696c2f49384b9ff3e",
            "6c49e20d525b48839da87eebb489d68e",
            "ca92108e4c8343239d4f6545d530e46a",
            "5b1025c2179940238e3e4ca936d9811f",
            "56f1085569fe4befa1dd1e960365442b",
            "a4eb26b37fb34f88b062dd27afed77ab",
            "051e0f0c879145658313f90c1087b1c1",
            "18310872ad7c40b6b47b4382ee23e2aa",
            "b7df13c8a24c4793851c3eecfad5e31c",
            "e0ce5cf1fae3424f84a823c70c2bcdd1",
            "7532a5d509d041bdbb148dadb73002c3",
            "749f20484e95493d85967df4ec3ae804",
            "62dadb1c72654edfb2eb774b22240be9",
            "d76d67a99e3f4ed0a4cae27dfc333e6e",
            "ca10166b7375453882b529d6cf15e15d",
            "f499f433b5eb401cae93e87534fd7270",
            "a4410b1d8c5c4ce0b56b6e1d257c51b9",
            "fea6e6d1572f4617a8b1d4d3f9deae69",
            "6ac783cd868f4b579215efb226cb2b91",
            "653a3a35ecf04a109bc1227e76ec4c14",
            "06c3bc7391a448668af45ee644128489",
            "856abe975fc84242afab02e790b48fdb",
            "10bb490e152e4e5dadabccfb0722b776",
            "1b045480f6bb43e0b5f3f6c192c5b493",
            "f5fe6bdc2bac472eb62f35bd519551c8",
            "0cc5e32c04d74dc78391fe6511d382df",
            "5c1d1486d05c430cb8dff86ec2dbb8aa",
            "f97ce47b58214e399dca46ff8dcf22f4",
            "edf2d14d53d44cc39263329557ab28b2",
            "1a4cb466e8a34950a58a2b928fde5af1",
            "7ef8cf5d849e4d55b878a168a6db2530",
            "54ec3d0fa226485e835b163c9b11b16a",
            "3d49a2723a8d467bbacb267161f64f26",
            "2c76f599eda84ef79c8fffd695520fb7",
            "f9ee57dc2ae142ddb5cff117e7897873",
            "639d5b9a151843f1aa3ab689bbdc4d3f",
            "815bc7c24afb4e9aa6eddb21ec259967",
            "2431e4a35f9a41e1953d5095a8b64f72",
            "0df0ddc55198499b986af3f9fe7beae7",
            "5e4a20d4c6114ddf824d07c11597899e",
            "c0fa78bcc03945ed95cfd9f42e26aa1f",
            "37729632a47141c2a52d86075cd2482a",
            "2c49fbf0db9f4d519c0920efc535e06a",
            "d77195466c5740b886214c0b64909128",
            "51ca6354ab8845499fd0c8ba9bfd32ff",
            "fcf4014385914ac984454e219fe9e509",
            "ab11dae5ee914ef9a631c9ac920cf71e",
            "f3518e0a5edf46efb605c172dde8efc1",
            "da8421c3b8914e9caae6c40b136a8c51",
            "c15d502c078447859f61e46e71cd85c2",
            "b379e9fb45274a3f887413e0e9eea5bc",
            "889732ddead343e8badc8c56c1e9f006",
            "0fea32973e04445ea8b2a68391841191",
            "8c2951417f8a481caec8a7ac9e1e4770",
            "24f4fdb9262d43c9bbee2f6b98034304",
            "50a0a09fa8cc4470ace755a0ba3c30cd",
            "946606fc784344628de6fe8db5ccbe05",
            "4688ee069e504cfd872a9c225ade0eba",
            "28b1085b8b2d48ff8fdf0a7e3c0bc4ad",
            "0eb279e49d694016828f6cc88b8387e2",
            "29057b6a63a64734b053639b400063a1",
            "e02fa2fc9fe142a1949db6ad7c1d7b4b",
            "6da450ba1a4d465c9f952680018d3a1a",
            "daa22331da5f49b485f682a0ea48add2",
            "0521f73b842d4889be7952366d142754",
            "5dff7f18f7a14881a89fc5583c34abd8",
            "603e8240e7764f9e827e08604677b8a3"
          ]
        },
        "id": "2966ac47",
        "outputId": "d4704bdb-b22d-4ee9-91e8-2400420afbb9"
      },
      "outputs": [
        {
          "output_type": "stream",
          "name": "stderr",
          "text": [
            "INFO:pytorch_lightning.utilities.rank_zero:GPU available: True (cuda), used: True\n",
            "INFO:pytorch_lightning.utilities.rank_zero:TPU available: False, using: 0 TPU cores\n",
            "INFO:pytorch_lightning.utilities.rank_zero:HPU available: False, using: 0 HPUs\n",
            "INFO:pytorch_lightning.accelerators.cuda:LOCAL_RANK: 0 - CUDA_VISIBLE_DEVICES: [0]\n",
            "INFO:pytorch_lightning.callbacks.model_summary:\n",
            "  | Name            | Type               | Params | Mode \n",
            "---------------------------------------------------------------\n",
            "0 | Encoder         | Sequential         | 25.8 K | train\n",
            "1 | final_layer     | Linear             | 170    | train\n",
            "2 | accuracy_metric | MulticlassAccuracy | 0      | train\n",
            "---------------------------------------------------------------\n",
            "25.9 K    Trainable params\n",
            "0         Non-trainable params\n",
            "25.9 K    Total params\n",
            "0.104     Total estimated model params size (MB)\n",
            "80        Modules in train mode\n",
            "0         Modules in eval mode\n"
          ]
        },
        {
          "output_type": "display_data",
          "data": {
            "text/plain": [
              "Sanity Checking: |          | 0/? [00:00<?, ?it/s]"
            ],
            "application/vnd.jupyter.widget-view+json": {
              "version_major": 2,
              "version_minor": 0,
              "model_id": "b27f1588f3434aef9c80773ad9f1dc89"
            }
          },
          "metadata": {}
        },
        {
          "output_type": "stream",
          "name": "stdout",
          "text": [
            "Validation loss: 2.5290403366088867, Validation accuracy: 0.07421875\n"
          ]
        },
        {
          "output_type": "display_data",
          "data": {
            "text/plain": [
              "Training: |          | 0/? [00:00<?, ?it/s]"
            ],
            "application/vnd.jupyter.widget-view+json": {
              "version_major": 2,
              "version_minor": 0,
              "model_id": "a4cf3f2294bb4b56979ebcb46b205b56"
            }
          },
          "metadata": {}
        },
        {
          "output_type": "display_data",
          "data": {
            "text/plain": [
              "Validation: |          | 0/? [00:00<?, ?it/s]"
            ],
            "application/vnd.jupyter.widget-view+json": {
              "version_major": 2,
              "version_minor": 0,
              "model_id": "7f0b26e1508747f2819dce3c674e64f8"
            }
          },
          "metadata": {}
        },
        {
          "output_type": "stream",
          "name": "stdout",
          "text": [
            "Validation loss: 0.5786359585821629, Validation accuracy: 0.825\n",
            "Training loss: 1.49412554447041, Training accuracy: 0.45438689215238703\n"
          ]
        },
        {
          "output_type": "display_data",
          "data": {
            "text/plain": [
              "Validation: |          | 0/? [00:00<?, ?it/s]"
            ],
            "application/vnd.jupyter.widget-view+json": {
              "version_major": 2,
              "version_minor": 0,
              "model_id": "9f8f0e34dbc94ea7a6c3d3d3fe80ed1c"
            }
          },
          "metadata": {}
        },
        {
          "output_type": "stream",
          "name": "stdout",
          "text": [
            "Validation loss: 0.40464731603860854, Validation accuracy: 0.875390625\n",
            "Training loss: 0.5967209739047428, Training accuracy: 0.8050409619198289\n"
          ]
        },
        {
          "output_type": "display_data",
          "data": {
            "text/plain": [
              "Validation: |          | 0/? [00:00<?, ?it/s]"
            ],
            "application/vnd.jupyter.widget-view+json": {
              "version_major": 2,
              "version_minor": 0,
              "model_id": "c489779a66a74e1b93a2e36a02aa027f"
            }
          },
          "metadata": {}
        },
        {
          "output_type": "stream",
          "name": "stdout",
          "text": [
            "Validation loss: 0.342574255168438, Validation accuracy: 0.8958984375\n",
            "Training loss: 0.4869125401557878, Training accuracy: 0.8432891780553862\n"
          ]
        },
        {
          "output_type": "display_data",
          "data": {
            "text/plain": [
              "Validation: |          | 0/? [00:00<?, ?it/s]"
            ],
            "application/vnd.jupyter.widget-view+json": {
              "version_major": 2,
              "version_minor": 0,
              "model_id": "a488586bb403418aaba473e0a23a9db7"
            }
          },
          "metadata": {}
        },
        {
          "output_type": "stream",
          "name": "stdout",
          "text": [
            "Validation loss: 0.30946473926305773, Validation accuracy: 0.9048828125\n",
            "Training loss: 0.42841200346863545, Training accuracy: 0.8640971854675648\n"
          ]
        },
        {
          "output_type": "display_data",
          "data": {
            "text/plain": [
              "Validation: |          | 0/? [00:00<?, ?it/s]"
            ],
            "application/vnd.jupyter.widget-view+json": {
              "version_major": 2,
              "version_minor": 0,
              "model_id": "b6becea2e9724847abc858539c0d81bb"
            }
          },
          "metadata": {}
        },
        {
          "output_type": "stream",
          "name": "stdout",
          "text": [
            "Validation loss: 0.2833712808787823, Validation accuracy: 0.9138671875\n",
            "Training loss: 0.39382272934497786, Training accuracy: 0.8746382796487143\n"
          ]
        },
        {
          "output_type": "display_data",
          "data": {
            "text/plain": [
              "Validation: |          | 0/? [00:00<?, ?it/s]"
            ],
            "application/vnd.jupyter.widget-view+json": {
              "version_major": 2,
              "version_minor": 0,
              "model_id": "6c49e20d525b48839da87eebb489d68e"
            }
          },
          "metadata": {}
        },
        {
          "output_type": "stream",
          "name": "stdout",
          "text": [
            "Validation loss: 0.26409983411431315, Validation accuracy: 0.9185546875\n",
            "Training loss: 0.3649282497722049, Training accuracy: 0.8838282901187275\n"
          ]
        },
        {
          "output_type": "display_data",
          "data": {
            "text/plain": [
              "Validation: |          | 0/? [00:00<?, ?it/s]"
            ],
            "application/vnd.jupyter.widget-view+json": {
              "version_major": 2,
              "version_minor": 0,
              "model_id": "62dadb1c72654edfb2eb774b22240be9"
            }
          },
          "metadata": {}
        },
        {
          "output_type": "stream",
          "name": "stdout",
          "text": [
            "Validation loss: 0.250955168902874, Validation accuracy: 0.923828125\n",
            "Training loss: 0.34647469388884167, Training accuracy: 0.8892326242701952\n"
          ]
        },
        {
          "output_type": "display_data",
          "data": {
            "text/plain": [
              "Validation: |          | 0/? [00:00<?, ?it/s]"
            ],
            "application/vnd.jupyter.widget-view+json": {
              "version_major": 2,
              "version_minor": 0,
              "model_id": "1b045480f6bb43e0b5f3f6c192c5b493"
            }
          },
          "metadata": {}
        },
        {
          "output_type": "stream",
          "name": "stdout",
          "text": [
            "Validation loss: 0.2407350827008486, Validation accuracy: 0.9263671875\n",
            "Training loss: 0.33457284396470977, Training accuracy: 0.8935963927313338\n"
          ]
        },
        {
          "output_type": "display_data",
          "data": {
            "text/plain": [
              "Validation: |          | 0/? [00:00<?, ?it/s]"
            ],
            "application/vnd.jupyter.widget-view+json": {
              "version_major": 2,
              "version_minor": 0,
              "model_id": "f9ee57dc2ae142ddb5cff117e7897873"
            }
          },
          "metadata": {}
        },
        {
          "output_type": "stream",
          "name": "stdout",
          "text": [
            "Validation loss: 0.23176340609788895, Validation accuracy: 0.928125\n",
            "Training loss: 0.32094882924196333, Training accuracy: 0.897202034883721\n"
          ]
        },
        {
          "output_type": "display_data",
          "data": {
            "text/plain": [
              "Validation: |          | 0/? [00:00<?, ?it/s]"
            ],
            "application/vnd.jupyter.widget-view+json": {
              "version_major": 2,
              "version_minor": 0,
              "model_id": "fcf4014385914ac984454e219fe9e509"
            }
          },
          "metadata": {}
        },
        {
          "output_type": "stream",
          "name": "stderr",
          "text": [
            "INFO:pytorch_lightning.utilities.rank_zero:`Trainer.fit` stopped: `max_epochs=10` reached.\n",
            "INFO:pytorch_lightning.accelerators.cuda:LOCAL_RANK: 0 - CUDA_VISIBLE_DEVICES: [0]\n"
          ]
        },
        {
          "output_type": "stream",
          "name": "stdout",
          "text": [
            "Validation loss: 0.21951126474887134, Validation accuracy: 0.9369140625\n",
            "Training loss: 0.3092397763632065, Training accuracy: 0.9018779731074045\n"
          ]
        },
        {
          "output_type": "display_data",
          "data": {
            "text/plain": [
              "Testing: |          | 0/? [00:00<?, ?it/s]"
            ],
            "application/vnd.jupyter.widget-view+json": {
              "version_major": 2,
              "version_minor": 0,
              "model_id": "946606fc784344628de6fe8db5ccbe05"
            }
          },
          "metadata": {}
        },
        {
          "output_type": "stream",
          "name": "stdout",
          "text": [
            "Test accuracy: 0.9395767405063291\n"
          ]
        },
        {
          "output_type": "execute_result",
          "data": {
            "text/plain": [
              "[{}]"
            ]
          },
          "metadata": {},
          "execution_count": 54
        }
      ],
      "source": [
        "# 모델 학습 및 테스트 실행\n",
        "model = VIT_Encoder()\n",
        "\n",
        "trainer = pl.Trainer(max_epochs=epochs, accelerator=\"gpu\", devices=1)\n",
        "trainer.fit(model, train_dataloaders=train_dataloader, val_dataloaders=val_dataloader)\n",
        "trainer.test(model, dataloaders=test_dataloader)\n"
      ]
    },
    {
      "cell_type": "markdown",
      "source": [
        "F. Prediction"
      ],
      "metadata": {
        "id": "uRCglux8QKnF"
      }
    },
    {
      "cell_type": "code",
      "execution_count": null,
      "metadata": {
        "colab": {
          "base_uri": "https://localhost:8080/",
          "height": 156,
          "referenced_widgets": [
            "26a3bdf5e6fa47aeb7b4f6d3f1a230ef",
            "4cbea6f1d20741e8ae4580e1b137e285",
            "b45eef6f30564c089f2f4036fddf12e1",
            "f704aa3f607941f8adc13a9a5564a29a",
            "02d8fbe8527e49e790dacf8a18fc64c6",
            "90e3b8b8ee34495db3cce8533105f20d",
            "f86ada67d1ef4af291918097345b71f4",
            "b429972528274170a44c459a57e1ff5a",
            "cd04e621aba6466aba5ded603da6a13f",
            "3ae8ed51753b45cbb040ac6edcb677be",
            "f9545e9682b8445e92937041bc98237b"
          ]
        },
        "id": "ba5348cd",
        "outputId": "07959896-2851-412a-abe4-9461c0a5bf10"
      },
      "outputs": [
        {
          "output_type": "stream",
          "name": "stderr",
          "text": [
            "INFO:pytorch_lightning.utilities.rank_zero:Restoring states from the checkpoint path at /content/lightning_logs/version_1/checkpoints/epoch=9-step=4300.ckpt\n",
            "INFO:pytorch_lightning.accelerators.cuda:LOCAL_RANK: 0 - CUDA_VISIBLE_DEVICES: [0]\n",
            "INFO:pytorch_lightning.utilities.rank_zero:Loaded model weights from the checkpoint at /content/lightning_logs/version_1/checkpoints/epoch=9-step=4300.ckpt\n"
          ]
        },
        {
          "output_type": "display_data",
          "data": {
            "text/plain": [
              "Testing: |          | 0/? [00:00<?, ?it/s]"
            ],
            "application/vnd.jupyter.widget-view+json": {
              "version_major": 2,
              "version_minor": 0,
              "model_id": "26a3bdf5e6fa47aeb7b4f6d3f1a230ef"
            }
          },
          "metadata": {}
        },
        {
          "output_type": "stream",
          "name": "stdout",
          "text": [
            "Test accuracy: 0.9395767405063291\n"
          ]
        },
        {
          "output_type": "execute_result",
          "data": {
            "text/plain": [
              "[{}]"
            ]
          },
          "metadata": {},
          "execution_count": 56
        }
      ],
      "source": [
        "trainer.test()"
      ]
    },
    {
      "cell_type": "markdown",
      "source": [
        "## 4. Conclusion"
      ],
      "metadata": {
        "id": "NKKzysUOs-ef"
      }
    },
    {
      "cell_type": "markdown",
      "source": [
        "* test 데이터에서 93.96%의 정확도를 달성함\n",
        "* ViT는 이미지 분류 작업에서 매우강력한 성능\n"
      ],
      "metadata": {
        "id": "dmt8ItJ5tC9g"
      }
    },
    {
      "cell_type": "markdown",
      "source": [
        "## 5. References"
      ],
      "metadata": {
        "id": "fVwU8JvitCU2"
      }
    },
    {
      "cell_type": "markdown",
      "source": [
        "[링크 텍스트](https:/https://github.com/daewoung/Vision-Transformer-MNIST-Pytorch-Lightning/blob/main/VIT_MNIST_LI.ipynb/)"
      ],
      "metadata": {
        "id": "0SRRtX-HtF0y"
      }
    }
  ]
}