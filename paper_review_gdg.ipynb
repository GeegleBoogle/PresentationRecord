{
  "nbformat": 4,
  "nbformat_minor": 0,
  "metadata": {
    "colab": {
      "provenance": [],
      "collapsed_sections": [
        "ZoX4qsroM6YG",
        "7kzitsHEPjMW"
      ]
    },
    "kernelspec": {
      "name": "python3",
      "display_name": "Python 3"
    },
    "language_info": {
      "name": "python"
    }
  },
  "cells": [
    {
      "cell_type": "markdown",
      "source": [
        "**논문 제목 기입하기**"
      ],
      "metadata": {
        "id": "Y_uWq2waO3rq"
      }
    },
    {
      "cell_type": "markdown",
      "source": [
        "## 1. Abstract"
      ],
      "metadata": {
        "id": "ZoX4qsroM6YG"
      }
    },
    {
      "cell_type": "code",
      "execution_count": null,
      "metadata": {
        "id": "S4Cuze7ILgtV"
      },
      "outputs": [],
      "source": []
    },
    {
      "cell_type": "markdown",
      "source": [
        "## 2. Architecture"
      ],
      "metadata": {
        "id": "7kzitsHEPjMW"
      }
    },
    {
      "cell_type": "markdown",
      "source": [
        "\n",
        "\n",
        "> 간단한 모델 파이프라인 및 구조 설명\n",
        "\n"
      ],
      "metadata": {
        "id": "qE_HUnJWrbDa"
      }
    },
    {
      "cell_type": "markdown",
      "source": [
        "## 3. Pipeline\n"
      ],
      "metadata": {
        "id": "8r3yX3U6P-x0"
      }
    },
    {
      "cell_type": "markdown",
      "source": [
        "\n",
        "\n",
        "> 자유롭게 논문에 소개된 모델을 활용하여, 데이터를 분석해 보세요!!\n",
        "\n"
      ],
      "metadata": {
        "id": "nu2nR_sXVyfu"
      }
    },
    {
      "cell_type": "markdown",
      "source": [
        "A. Import Libraries"
      ],
      "metadata": {
        "id": "nVCDugnfWELi"
      }
    },
    {
      "cell_type": "code",
      "source": [
        "import os\n",
        "\n",
        "import pandas as pd\n",
        "import numpy as np\n",
        "\n",
        "import matplotlib.pyplot as plt\n",
        "%matplotlib inline"
      ],
      "metadata": {
        "id": "FuGBJPtIVyUP"
      },
      "execution_count": 4,
      "outputs": []
    },
    {
      "cell_type": "code",
      "source": [
        "import torch\n",
        "import torch.nn as nn\n",
        "import torch.nn.functional as F\n",
        "import torch.optim as optim\n",
        "from torchvision import datasets\n",
        "from torch.utils.data import DataLoader\n",
        "from torchsummary import summary"
      ],
      "metadata": {
        "id": "rI9WqgURg2LI"
      },
      "execution_count": 3,
      "outputs": []
    },
    {
      "cell_type": "markdown",
      "source": [
        "B. Configuration"
      ],
      "metadata": {
        "id": "jftin4JKWGc-"
      }
    },
    {
      "cell_type": "code",
      "source": [
        "TRAIN_PATH =\n",
        "TEST_PATH ="
      ],
      "metadata": {
        "id": "tgaP2kmJaSAC"
      },
      "execution_count": null,
      "outputs": []
    },
    {
      "cell_type": "code",
      "source": [
        "# Iterator 생성\n",
        "DEVICE = torch.device('cuda') if torch.cuda.is_available() else torch.device('cpu')\n",
        "\n",
        "batch_size ="
      ],
      "metadata": {
        "id": "qQ0dQC9ZaL_l"
      },
      "execution_count": null,
      "outputs": []
    },
    {
      "cell_type": "markdown",
      "source": [
        "C. Data Preprocessing & EDA"
      ],
      "metadata": {
        "id": "PUbi6JPJXFBd"
      }
    },
    {
      "cell_type": "code",
      "source": [],
      "metadata": {
        "id": "_a372l-VXH0c"
      },
      "execution_count": null,
      "outputs": []
    },
    {
      "cell_type": "markdown",
      "source": [
        "D. Modelling"
      ],
      "metadata": {
        "id": "7YwFilzxXHZn"
      }
    },
    {
      "cell_type": "code",
      "source": [
        "# Model Structure\n"
      ],
      "metadata": {
        "id": "1tkhtHh7XWZz"
      },
      "execution_count": null,
      "outputs": []
    },
    {
      "cell_type": "markdown",
      "source": [
        "E. Training Loop"
      ],
      "metadata": {
        "id": "lDP5GehMWM8C"
      }
    },
    {
      "cell_type": "code",
      "source": [
        "# HyperParameters\n"
      ],
      "metadata": {
        "id": "ji-01i06vSf9"
      },
      "execution_count": null,
      "outputs": []
    },
    {
      "cell_type": "code",
      "source": [
        "# Optimizer\n",
        "\n",
        "# Loss Function\n"
      ],
      "metadata": {
        "id": "PTE5KXfXuhf0"
      },
      "execution_count": null,
      "outputs": []
    },
    {
      "cell_type": "code",
      "source": [
        "# Training Loop\n"
      ],
      "metadata": {
        "id": "KjfL6yo7vCZW"
      },
      "execution_count": null,
      "outputs": []
    },
    {
      "cell_type": "markdown",
      "source": [
        "F. Prediction"
      ],
      "metadata": {
        "id": "uRCglux8QKnF"
      }
    },
    {
      "cell_type": "code",
      "source": [],
      "metadata": {
        "id": "PSLaPxxLcwrL"
      },
      "execution_count": null,
      "outputs": []
    },
    {
      "cell_type": "markdown",
      "source": [
        "## 4. Conclusion"
      ],
      "metadata": {
        "id": "NKKzysUOs-ef"
      }
    },
    {
      "cell_type": "markdown",
      "source": [],
      "metadata": {
        "id": "dmt8ItJ5tC9g"
      }
    },
    {
      "cell_type": "markdown",
      "source": [
        "## 5. References"
      ],
      "metadata": {
        "id": "fVwU8JvitCU2"
      }
    },
    {
      "cell_type": "markdown",
      "source": [],
      "metadata": {
        "id": "0SRRtX-HtF0y"
      }
    }
  ]
}